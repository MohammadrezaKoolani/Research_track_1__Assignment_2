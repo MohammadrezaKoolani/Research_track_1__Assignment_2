{
 "cells": [
  {
   "cell_type": "code",
   "execution_count": null,
   "id": "64114a93",
   "metadata": {},
   "outputs": [],
   "source": [
    "#!/usr/bin/env python3\n",
    "\n",
    "import rospy\n",
    "import sys\n",
    "import select\n",
    "import actionlib\n",
    "import time\n",
    "import actionlib.msg\n",
    "import Assignment_2.msg\n",
    "from nav_msgs.msg import Odometry\n",
    "from geometry_msgs.msg import Point, Pose, Twist, PoseStamped\n",
    "from Assignment_2.msg import Info\n",
    "from Assignment_2.srv import target,targetResponse\n",
    "import assignment_2_2022.msg\n",
    "from sensor_msgs.msg import LaserScan"
   ]
  },
  {
   "cell_type": "code",
   "execution_count": null,
   "id": "5cb4f7e7",
   "metadata": {},
   "outputs": [],
   "source": [
    "#Variables\n",
    "pose_ = Pose()\n",
    "twist_ = Twist()\n",
    "\n",
    "#state\n",
    "s = 0\n",
    "\n",
    "#Initialization of elements\n",
    "pose = PoseStamped()\n",
    "target_reached = 0\n",
    "target_canceled = 0"
   ]
  },
  {
   "cell_type": "code",
   "execution_count": null,
   "id": "dcf2461a",
   "metadata": {},
   "outputs": [],
   "source": [
    "import numpy as np\n",
    "import matplotlib.pyplot as plt\n",
    "from matplotlib.animation import FuncAnimation\n",
    "%matplotlib notebook\n",
    "\n",
    "class Visualiser:\n",
    "    \n",
    "    def __init__(self):\n",
    "        self.fig, self.ax = plt.subplots()\n",
    "        self.ln, = plt.plot([], [], 'g^')\n",
    "        self.x_data, self.y_data = [] , []\n",
    "    \n",
    "    def plot_init(self):\n",
    "        self.ax.set_xlim(10, -10)\n",
    "        self.ax.set_ylim(10, -10)\n",
    "        return self.ln\n",
    "    \n",
    "    def odom_callback(self, msg):\n",
    "        self.y_data.append(msg.pose.pose.position.y)\n",
    "        self.x_data.append(msg.pose.pose.position.x)\n",
    "    \n",
    "    def update_plot(self, frame):\n",
    "        self.ln.set_data(self.x_data, self.y_data)\n",
    "        return self.ln\n",
    "\n",
    "    def add_goal(self, x, y):\n",
    "        self.ax.plot(x, y, marker=\"+\",markeredgecolor=\"cyan\")"
   ]
  },
  {
   "cell_type": "code",
   "execution_count": null,
   "id": "706fb15b",
   "metadata": {},
   "outputs": [],
   "source": [
    "class VisualizerGoals:\n",
    "    def __init__(self):\n",
    "        self.fig, self.ax = plt.subplots()\n",
    "        self.res = ['Successful', 'Failed']\n",
    "        self.n_goals = [0, 0]\n",
    "        self.bar_colors = ['tab:green', 'tab:red']\n",
    "        self.bar = self.ax.bar(self.res, self.n_goals, color=self.bar_colors)\n",
    "        self.ax.set_title('Counting the State of the Goals - Successful or Failed')\n",
    "\n",
    "    def update(self, s, c):\n",
    "        self.n_goals = [s, c]\n",
    "        for bar, height in zip(self.bar, self.n_goals):\n",
    "            bar.set_height(height)\n",
    "        plt.draw()"
   ]
  },
  {
   "cell_type": "code",
   "execution_count": null,
   "id": "a29f9574",
   "metadata": {},
   "outputs": [],
   "source": [
    "import ipywidgets as widgets\n",
    "from ipywidgets import Button, Layout, ButtonStyle, GridBox, VBox, HBox\n",
    "import numpy as np\n",
    "import matplotlib.pyplot as plt\n",
    "from matplotlib.animation import FuncAnimation\n",
    "%matplotlib notebook"
   ]
  },
  {
   "cell_type": "code",
   "execution_count": null,
   "id": "a856b47e",
   "metadata": {},
   "outputs": [],
   "source": [
    "import numpy as np\n",
    "import ipywidgets as widgets\n",
    "\n",
    "# Input Widgets for Goal Positions\n",
    "x_goal_widget = widgets.BoundedFloatText(value=0, min=-10, max=10, description='The Position of x:', disabled=False)\n",
    "y_goal_widget = widgets.BoundedFloatText(value=0, min=-10, max=10, description='The Position of y:', disabled=False)\n",
    "\n",
    "# Plot Points\n",
    "x_plot = []\n",
    "y_plot = []\n",
    "np_x_plot = np.array(x_plot)\n",
    "np_y_plot = np.array(y_plot)\n",
    "\n",
    "# Goal Positions\n",
    "goal_x = 0\n",
    "goal_y = 0\n",
    "\n",
    "# Buttons\n",
    "send_goal_button = widgets.Button(description=\"Send Goal\")\n",
    "cancel_button = widgets.Button(description=\"Cancel\")\n",
    "\n",
    "# Labels\n",
    "goals_reached_label = widgets.Text(value='0', description='Successful Goals:', disabled=True)\n",
    "goals_canceled_label = widgets.Text(value='0', description='Canceled Goals:', disabled=True)\n",
    "distance_to_obstacle_label = widgets.Text(value='0.0', description='Distance to Obstacle:', disabled=True)\n"
   ]
  },
  {
   "cell_type": "code",
   "execution_count": null,
   "id": "3ddec9ea",
   "metadata": {},
   "outputs": [],
   "source": [
    "#Init node\n",
    "rospy.init_node('node_a')\n",
    "\n",
    "#Create a new client\n",
    "client = actionlib.SimpleActionClient('/reaching_goal', assignment_2_2022.msg.PlanningAction)\n",
    "\n",
    "#Publish\n",
    "pub_info = rospy.Publisher('/bot_info', Info, queue_size=1)\n",
    "pub_target = rospy.Publisher('/tgt', Point, queue_size=1)"
   ]
  },
  {
   "cell_type": "code",
   "execution_count": null,
   "id": "b6271388",
   "metadata": {},
   "outputs": [],
   "source": [
    "def send_goal(b):\n",
    "    \n",
    "    global client, target_reached, s\n",
    "    \n",
    "    pose = PoseStamped()\n",
    "    \n",
    "    pose.pose.position.x = x_goal_widget.value\n",
    "    pose.pose.position.y = y_goal_widget.value\n",
    "    pose.pose.position.z = 0\n",
    "    \n",
    "    #Create the object PlanningGoal and assign the position goal\n",
    "    goal = assignment_2_2022.msg.PlanningGoal(target_pose = pose)\n",
    "\n",
    "    #Send the goal request\n",
    "    client.send_goal(goal)  \n",
    "    \n",
    "    vis.add_goal(x_goal_widget.value,y_w.value)\n",
    "    \n",
    "    s = 1\n",
    "        \n",
    "send_goal_button.on_click(send_goal)    "
   ]
  },
  {
   "cell_type": "code",
   "execution_count": null,
   "id": "21235cf3",
   "metadata": {},
   "outputs": [],
   "source": [
    "def canc_goal(b):\n",
    "    \n",
    "    global client, target_canceled, state\n",
    "    \n",
    "    client.cancel_all_goals()\n",
    "    time.sleep(1)\n",
    "    state = client.get_state()    \n",
    "    if state == 2:        \n",
    "        target_canceled += 1\n",
    "        vix_goals.update(target_reached,target_canceled)\n",
    "        #goal_canceled_label.value = str(target_canceled)\n",
    "        \n",
    "cancel_button.on_click(canc_goal)"
   ]
  },
  {
   "cell_type": "code",
   "execution_count": null,
   "id": "f7f28e99",
   "metadata": {},
   "outputs": [],
   "source": [
    "def clbk_odom(msg):\n",
    "    \n",
    "    global client, target_reached, s, x_plot, y_plot\n",
    "\n",
    "    x_ = msg.pose.pose.position.x\n",
    "    y_ = msg.pose.pose.position.y\n",
    "    vx_ = msg.twist.twist.linear.x\n",
    "    vy_ = msg.twist.twist.linear.y\n",
    "\n",
    "    msg_info = Info()\n",
    "\n",
    "    msg_info.x = x_\n",
    "    msg_info.y = y_\n",
    "    msg_info.vel_x = vx_\n",
    "    msg_info.vel_y = vy_    \n",
    "    \n",
    "    state = client.get_state()\n",
    "    if(state == 3 and s == 1):\n",
    "        target_reached += 1\n",
    "        #goal_reached_label.value = str(target_reached)\n",
    "        vix_goals.update(target_reached,target_canceled)\n",
    "        \n",
    "        s = 0\n",
    "        \n",
    "    if not rospy.is_shutdown():\n",
    "        pub_info.publish(msg_info)"
   ]
  },
  {
   "cell_type": "code",
   "execution_count": null,
   "id": "898fda5a",
   "metadata": {},
   "outputs": [],
   "source": [
    "def ltk_tgt(x, y):\n",
    "\n",
    "    global pub_target\n",
    "\n",
    "    target = Point()\n",
    "\n",
    "    target.x = x\n",
    "    target.y = y\n",
    "    target.z = 0\n",
    "\n",
    "    pub_target.publish(target)"
   ]
  },
  {
   "cell_type": "code",
   "execution_count": null,
   "id": "ceee8ec6",
   "metadata": {},
   "outputs": [],
   "source": [
    "def get_info_goal(req):\n",
    "\n",
    "    global target_reached, target_canceled, service\n",
    "    \n",
    "    return targetResponse(target_reached, target_canceled)"
   ]
  },
  {
   "cell_type": "code",
   "execution_count": null,
   "id": "f3506374",
   "metadata": {},
   "outputs": [],
   "source": [
    "def clbk_laser(msg):\n",
    "    \n",
    "    _range = msg.ranges\n",
    "    min_dst = sys.float_info.max\n",
    "    \n",
    "    for x in _range:\n",
    "        if(x < min_dst):\n",
    "            min_dst = x\n",
    "    \n",
    "    distance_to_obstacle_label = str(min_dst)"
   ]
  },
  {
   "cell_type": "code",
   "execution_count": null,
   "id": "b6f912da",
   "metadata": {},
   "outputs": [],
   "source": [
    "def clbk_laser(msg):\n",
    "    \n",
    "    _range = msg.ranges\n",
    "    min_dst = sys.float_info.max\n",
    "    \n",
    "    for x in _range:\n",
    "        if(x < min_dst):\n",
    "            min_dst = x\n",
    "    \n",
    "    distance_to_obstacle_label = str(min_dst)"
   ]
  },
  {
   "cell_type": "code",
   "execution_count": null,
   "id": "12e87421",
   "metadata": {},
   "outputs": [],
   "source": [
    "#Wait for the server ready \n",
    "client.wait_for_server()   "
   ]
  },
  {
   "cell_type": "code",
   "execution_count": null,
   "id": "d0d82f39",
   "metadata": {},
   "outputs": [],
   "source": [
    "#Subscribe\n",
    "sub_odom = rospy.Subscriber('/odom', Odometry, clbk_odom)\n",
    "service = rospy.Service('goal_info',target, get_info_goal)\n",
    "sub_laser = rospy.Subscriber('/scan', LaserScan, clbk_laser)"
   ]
  },
  {
   "cell_type": "code",
   "execution_count": null,
   "id": "9246f85a",
   "metadata": {},
   "outputs": [],
   "source": [
    "vis = Visualiser()\n",
    "sub = rospy.Subscriber('/odom', Odometry, vis.odom_callback)\n",
    "\n",
    "ani = FuncAnimation(vis.fig, vis.update_plot, init_func=vis.plot_init)\n",
    "plt.show(block=True)"
   ]
  },
  {
   "cell_type": "code",
   "execution_count": null,
   "id": "36f5197a",
   "metadata": {},
   "outputs": [],
   "source": [
    "display(distance_to_obstacle_label)"
   ]
  },
  {
   "cell_type": "code",
   "execution_count": null,
   "id": "66bd2835",
   "metadata": {},
   "outputs": [],
   "source": [
    "vix_goals = VisualizerGoals()"
   ]
  },
  {
   "cell_type": "code",
   "execution_count": null,
   "id": "f6501586",
   "metadata": {},
   "outputs": [],
   "source": [
    "display(x_goal_widget,y_goal_widget)\n",
    "HBox([send_goal_button,cancel_button])"
   ]
  }
 ],
 "metadata": {
  "kernelspec": {
   "display_name": "Python 3 (ipykernel)",
   "language": "python",
   "name": "python3"
  },
  "language_info": {
   "codemirror_mode": {
    "name": "ipython",
    "version": 3
   },
   "file_extension": ".py",
   "mimetype": "text/x-python",
   "name": "python",
   "nbconvert_exporter": "python",
   "pygments_lexer": "ipython3",
   "version": "3.10.9"
  }
 },
 "nbformat": 4,
 "nbformat_minor": 5
}
